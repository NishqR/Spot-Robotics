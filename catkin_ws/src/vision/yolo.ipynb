{
 "cells": [
  {
   "cell_type": "markdown",
   "metadata": {},
   "source": [
    "### Test Yolo"
   ]
  },
  {
   "cell_type": "code",
   "execution_count": null,
   "metadata": {},
   "outputs": [],
   "source": [
    "import tensorflow as tf\n",
    "import os\n",
    "import pandas as pd\n",
    "import numpy as np\n",
    "from pandas.api.types import is_string_dtype\n",
    "from pandas.api.types import is_numeric_dtype\n",
    "import matplotlib.pyplot as plt\n",
    "import seaborn as sns\n",
    "from sklearn.model_selection import train_test_split\n",
    "from PIL import Image\n",
    "from tensorflow.keras.preprocessing.image import ImageDataGenerator\n",
    "\n",
    "AUTOTUNE = tf.data.experimental.AUTOTUNE\n",
    "import tensorflow_datasets as tfds\n",
    "import pathlib\n",
    "import shutil\n",
    "import tempfile\n",
    "from  IPython import display\n",
    "import math\n",
    "from sklearn import preprocessing\n",
    "import tensorflow.keras as keras\n",
    "from scipy.ndimage.interpolation import rotate, shift\n",
    "from tensorflow.keras import layers\n",
    "from shutil import copy2\n",
    "!pip install tensorflow-addons\n",
    "import tensorflow_addons as tfa\n",
    "\n",
    "import struct\n",
    "from keras.layers.merge import add, concatenate\n",
    "import argparse\n",
    "from tensorflow.keras.applications import VGG16\n",
    "from tensorflow.keras.layers import Flatten, Conv2D, Input, BatchNormalization, LeakyReLU, ZeroPadding2D, UpSampling2D, GlobalAveragePooling1D, Dense\n",
    "from tensorflow.keras.models import Model\n",
    "from tensorflow.keras.optimizers import Adam\n",
    "from tensorflow.keras.preprocessing.image import img_to_array\n",
    "from tensorflow.keras.preprocessing.image import load_img\n",
    "from scipy.interpolate import interp1d\n",
    "import random\n",
    "import cv2\n",
    "import matplotlib.patches as patches\n",
    "from google.colab import drive"
   ]
  },
  {
   "cell_type": "code",
   "execution_count": 3,
   "metadata": {},
   "outputs": [
    {
     "ename": "ModuleNotFoundError",
     "evalue": "No module named 'test_utils'",
     "output_type": "error",
     "traceback": [
      "\u001B[1;31m---------------------------------------------------------------------------\u001B[0m",
      "\u001B[1;31mModuleNotFoundError\u001B[0m                       Traceback (most recent call last)",
      "Input \u001B[1;32mIn [3]\u001B[0m, in \u001B[0;36m<cell line: 2>\u001B[1;34m()\u001B[0m\n\u001B[0;32m      1\u001B[0m \u001B[38;5;28;01mfrom\u001B[39;00m \u001B[38;5;21;01mkeras\u001B[39;00m\u001B[38;5;21;01m.\u001B[39;00m\u001B[38;5;21;01mmodels\u001B[39;00m \u001B[38;5;28;01mimport\u001B[39;00m load_model\n\u001B[1;32m----> 2\u001B[0m \u001B[38;5;28;01mfrom\u001B[39;00m \u001B[38;5;21;01mtest_utils\u001B[39;00m \u001B[38;5;28;01mimport\u001B[39;00m load_image_pixels, decode_netout, correct_yolo_boxes, do_nms, get_boxes, draw_boxes\n",
      "\u001B[1;31mModuleNotFoundError\u001B[0m: No module named 'test_utils'"
     ]
    }
   ],
   "source": [
    "from keras.models import load_model\n",
    "from test_utils import load_image_pixels, decode_netout, correct_yolo_boxes, do_nms, get_boxes, draw_boxes"
   ]
  },
  {
   "cell_type": "code",
   "execution_count": null,
   "metadata": {},
   "outputs": [],
   "source": [
    " # load yolov3 model\n",
    "model = load_model('yolov3.h5py')"
   ]
  },
  {
   "cell_type": "code",
   "execution_count": 1,
   "metadata": {},
   "outputs": [
    {
     "name": "stderr",
     "output_type": "stream",
     "text": [
      "Traceback (most recent call last):\n",
      "  File \"test/test_model.py\", line 54, in <module>\n",
      "    test()\n",
      "  File \"test/test_model.py\", line 9, in test\n",
      "    model = load_model('../yolov3.h5py')\n",
      "  File \"C:\\Users\\lukey\\anaconda3\\envs\\ml\\lib\\site-packages\\keras\\utils\\traceback_utils.py\", line 67, in error_handler\n",
      "    raise e.with_traceback(filtered_tb) from None\n",
      "  File \"C:\\Users\\lukey\\anaconda3\\envs\\ml\\lib\\site-packages\\keras\\saving\\save.py\", line 204, in load_model\n",
      "    raise IOError(f'No file or directory found at {filepath_str}')\n",
      "OSError: No file or directory found at ../yolov3.h5py\n"
     ]
    }
   ],
   "source": [
    "\n",
    "\n",
    "# define the expected input shape for the model\n",
    "input_w, input_h = 640, 386\n",
    "\n",
    "# define our new photo\n",
    "photo_filename = \"test/images/test.jpg\"\n",
    "\n",
    "# load and prepare image\n",
    "image, image_w, image_h = load_image_pixels(photo_filename, (input_w, input_h))\n",
    "\n",
    "# make prediction\n",
    "y_hat = model.predict(image)\n",
    "\n",
    "# define the anchors\n",
    "anchors = [[116, 90, 156, 198, 373, 326], [30, 61, 62, 45, 59, 119], [10, 13, 16, 30, 33, 23]]\n",
    "\n",
    "# define the probability threshold for detected objects\n",
    "class_threshold = 0.3\n",
    "boxes = list()\n",
    "for i in range(len(y_hat)):\n",
    "    # decode the output of the network\n",
    "    boxes += decode_netout(y_hat[i][0], anchors[i], class_threshold, input_h, input_w)\n",
    "\n",
    "# correct the sizes of the bounding boxes for the shape of the image\n",
    "correct_yolo_boxes(boxes, image_h, image_w, input_h, input_w)\n",
    "\n",
    "# suppress non-maximal boxes\n",
    "do_nms(boxes, 0.4)\n",
    "\n",
    "# define the labels\n",
    "labels = [\"person\"]\n",
    "\n",
    "# get the details of the detected objects.\n",
    "v_boxes, v_labels, v_scores = get_boxes(boxes, labels, class_threshold)\n",
    "\n",
    "# summarize what we found\n",
    "for i in range(len(v_boxes)):\n",
    "    print(v_labels[i], v_scores[i])\n",
    "\n",
    "# draw what we found\n",
    "draw_boxes(photo_filename, v_boxes, v_labels, v_scores)"
   ]
  }
 ],
 "metadata": {
  "kernelspec": {
   "display_name": "Python 3 (ipykernel)",
   "language": "python",
   "name": "python3"
  },
  "language_info": {
   "codemirror_mode": {
    "name": "ipython",
    "version": 3
   },
   "file_extension": ".py",
   "mimetype": "text/x-python",
   "name": "python",
   "nbconvert_exporter": "python",
   "pygments_lexer": "ipython3",
   "version": "3.8.13"
  }
 },
 "nbformat": 4,
 "nbformat_minor": 2
}